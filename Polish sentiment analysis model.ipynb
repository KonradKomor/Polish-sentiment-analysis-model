{
 "cells": [
  {
   "cell_type": "code",
   "execution_count": 2,
   "metadata": {},
   "outputs": [],
   "source": [
    "import pandas as pd\n",
    "import re\n",
    "from textblob import TextBlob\n",
    "import spacy as spacy\n",
    "import numpy as np\n",
    "nlp = spacy.load(\"pl_core_news_lg\")\n",
    "from spacy.lang.pl import Polish\n",
    "parser = Polish()\n",
    "from spacy.lang.pl.stop_words import STOP_WORDS\n",
    "from sklearn.linear_model import LogisticRegression\n",
    "from sklearn.model_selection import train_test_split\n",
    "from sklearn.metrics import classification_report\n",
    "from sklearn.model_selection import ShuffleSplit"
   ]
  },
  {
   "cell_type": "code",
   "execution_count": 3,
   "metadata": {},
   "outputs": [],
   "source": [
    "from sklearn.feature_extraction.text import CountVectorizer,TfidfVectorizer\n",
    "from sklearn.metrics import accuracy_score \n",
    "from sklearn.base import TransformerMixin \n",
    "from sklearn.pipeline import Pipeline\n",
    "from sklearn.svm import LinearSVC"
   ]
  },
  {
   "cell_type": "code",
   "execution_count": 4,
   "metadata": {},
   "outputs": [],
   "source": [
    "stopwords = list(STOP_WORDS)"
   ]
  },
  {
   "cell_type": "markdown",
   "metadata": {},
   "source": [
    "# Cleaning and importing data\n"
   ]
  },
  {
   "cell_type": "code",
   "execution_count": 5,
   "metadata": {},
   "outputs": [],
   "source": [
    "import string\n",
    "punctuations=string.punctuation"
   ]
  },
  {
   "cell_type": "code",
   "execution_count": 6,
   "metadata": {},
   "outputs": [],
   "source": [
    "def tokenizer(sentence):\n",
    "    mytokens=nlp(sentence)\n",
    "    mytokens=[word.lemma_.lower().strip() if word.lemma_ != \"-PRON-\" else word.lower_ for word in mytokens]\n",
    "    mytokens = [word for word in mytokens if word not in stopwords and word not in punctuations ]\n",
    "    return mytokens"
   ]
  },
  {
   "cell_type": "code",
   "execution_count": 7,
   "metadata": {},
   "outputs": [
    {
     "data": {
      "text/plain": [
       "['cel', 'pokaz', 'prezentować', 'następujący', 'zdanie']"
      ]
     },
     "execution_count": 7,
     "metadata": {},
     "output_type": "execute_result"
    }
   ],
   "source": [
    "c=tokenizer('W celu pokazu prezentuję następujące zdanie')\n",
    "c"
   ]
  },
  {
   "cell_type": "code",
   "execution_count": 9,
   "metadata": {},
   "outputs": [],
   "source": [
    "vectorizer=CountVectorizer(tokenizer=tokenizer, ngram_range=(1,1))\n",
    "classifier = LinearSVC()"
   ]
  },
  {
   "cell_type": "code",
   "execution_count": 10,
   "metadata": {
    "scrolled": true
   },
   "outputs": [
    {
     "name": "stderr",
     "output_type": "stream",
     "text": [
      "<ipython-input-10-4df8a0abd9e6>:1: ParserWarning: Falling back to the 'python' engine because the 'c' engine does not support regex separators (separators > 1 char and different from '\\s+' are interpreted as regex); you can avoid this warning by specifying engine='python'.\n",
      "  df = pd.read_csv('C:/Users/konra/analiza.csv',sep='__',encoding='utf-8')\n"
     ]
    },
    {
     "data": {
      "text/html": [
       "<div>\n",
       "<style scoped>\n",
       "    .dataframe tbody tr th:only-of-type {\n",
       "        vertical-align: middle;\n",
       "    }\n",
       "\n",
       "    .dataframe tbody tr th {\n",
       "        vertical-align: top;\n",
       "    }\n",
       "\n",
       "    .dataframe thead th {\n",
       "        text-align: right;\n",
       "    }\n",
       "</style>\n",
       "<table border=\"1\" class=\"dataframe\">\n",
       "  <thead>\n",
       "    <tr style=\"text-align: right;\">\n",
       "      <th></th>\n",
       "      <th>Text</th>\n",
       "      <th>label</th>\n",
       "      <th>label;;;;;;</th>\n",
       "    </tr>\n",
       "  </thead>\n",
       "  <tbody>\n",
       "    <tr>\n",
       "      <th>0</th>\n",
       "      <td>Taksowak przyjezdza na czas , wydaje sie , ze ...</td>\n",
       "      <td>label</td>\n",
       "      <td>z_zero;;;;;;</td>\n",
       "    </tr>\n",
       "    <tr>\n",
       "      <th>1</th>\n",
       "      <td>Do tej pani trafili śmy z naszą 2 - miesięczna...</td>\n",
       "      <td>label</td>\n",
       "      <td>z_zero;;;;;;</td>\n",
       "    </tr>\n",
       "    <tr>\n",
       "      <th>2</th>\n",
       "      <td>Wyróżnikiem , a także ciekawym elementem całeg...</td>\n",
       "      <td>label</td>\n",
       "      <td>z_zero;;;;;;</td>\n",
       "    </tr>\n",
       "    <tr>\n",
       "      <th>3</th>\n",
       "      <td>W zależności od pory dnia , w naszych organizm...</td>\n",
       "      <td>label</td>\n",
       "      <td>z_zero;;;;;;</td>\n",
       "    </tr>\n",
       "    <tr>\n",
       "      <th>4</th>\n",
       "      <td>Polecam wszystkim , zwłaszcza tym , dla któryc...</td>\n",
       "      <td>label</td>\n",
       "      <td>z_plus_m;;;;;;</td>\n",
       "    </tr>\n",
       "    <tr>\n",
       "      <th>...</th>\n",
       "      <td>...</td>\n",
       "      <td>...</td>\n",
       "      <td>...</td>\n",
       "    </tr>\n",
       "    <tr>\n",
       "      <th>45959</th>\n",
       "      <td>Na plus zaliczył by m też wbudowane gniazda US...</td>\n",
       "      <td>label</td>\n",
       "      <td>z_plus_m;;;;;;</td>\n",
       "    </tr>\n",
       "    <tr>\n",
       "      <th>45960</th>\n",
       "      <td>Bardzo blisko ( 3 - 5 min . drogi ) do centrum...</td>\n",
       "      <td>label</td>\n",
       "      <td>z_plus_m;;;;;;</td>\n",
       "    </tr>\n",
       "    <tr>\n",
       "      <th>45961</th>\n",
       "      <td>Fachowo , prawie bezboleśnie i skutecznie , bo...</td>\n",
       "      <td>label</td>\n",
       "      <td>z_plus_m;;;;;;</td>\n",
       "    </tr>\n",
       "    <tr>\n",
       "      <th>45962</th>\n",
       "      <td>Podsumowując : 1 . umówił em się na prywatną w...</td>\n",
       "      <td>label</td>\n",
       "      <td>z_minus_m;;;;;;</td>\n",
       "    </tr>\n",
       "    <tr>\n",
       "      <th>45963</th>\n",
       "      <td>Był nieco tąńszy a sprzedawca zapewniał , że n...</td>\n",
       "      <td>label</td>\n",
       "      <td>z_amb;;;;;;</td>\n",
       "    </tr>\n",
       "  </tbody>\n",
       "</table>\n",
       "<p>45964 rows × 3 columns</p>\n",
       "</div>"
      ],
      "text/plain": [
       "                                                    Text  label  \\\n",
       "0      Taksowak przyjezdza na czas , wydaje sie , ze ...  label   \n",
       "1      Do tej pani trafili śmy z naszą 2 - miesięczna...  label   \n",
       "2      Wyróżnikiem , a także ciekawym elementem całeg...  label   \n",
       "3      W zależności od pory dnia , w naszych organizm...  label   \n",
       "4      Polecam wszystkim , zwłaszcza tym , dla któryc...  label   \n",
       "...                                                  ...    ...   \n",
       "45959  Na plus zaliczył by m też wbudowane gniazda US...  label   \n",
       "45960  Bardzo blisko ( 3 - 5 min . drogi ) do centrum...  label   \n",
       "45961  Fachowo , prawie bezboleśnie i skutecznie , bo...  label   \n",
       "45962  Podsumowując : 1 . umówił em się na prywatną w...  label   \n",
       "45963  Był nieco tąńszy a sprzedawca zapewniał , że n...  label   \n",
       "\n",
       "           label;;;;;;  \n",
       "0         z_zero;;;;;;  \n",
       "1         z_zero;;;;;;  \n",
       "2         z_zero;;;;;;  \n",
       "3         z_zero;;;;;;  \n",
       "4       z_plus_m;;;;;;  \n",
       "...                ...  \n",
       "45959   z_plus_m;;;;;;  \n",
       "45960   z_plus_m;;;;;;  \n",
       "45961   z_plus_m;;;;;;  \n",
       "45962  z_minus_m;;;;;;  \n",
       "45963      z_amb;;;;;;  \n",
       "\n",
       "[45964 rows x 3 columns]"
      ]
     },
     "execution_count": 10,
     "metadata": {},
     "output_type": "execute_result"
    }
   ],
   "source": [
    "df = pd.read_csv('C:/Users/konra/analiza.csv',sep='__',encoding='utf-8')\n",
    "df"
   ]
  },
  {
   "cell_type": "code",
   "execution_count": 11,
   "metadata": {},
   "outputs": [],
   "source": [
    "def getRidOff(text):\n",
    "    text=re.sub(r';','',text)\n",
    "    text=re.sub(r'\"','',text)\n",
    "    return text\n",
    "df['label;;;;;;']=df['label;;;;;;'].apply(getRidOff)"
   ]
  },
  {
   "cell_type": "code",
   "execution_count": 12,
   "metadata": {},
   "outputs": [],
   "source": [
    "def cleanText(text):\n",
    "    text=re.sub(r':','',text)\n",
    "    text=re.sub(r';','',text)\n",
    "    text=re.sub(r'[0-9]+','',text)\n",
    "    text=re.sub(r'  ',' ',text)\n",
    "    text=re.sub(r'#','',text)\n",
    "    text=re.sub(r'-','',text)\n",
    "    text=re.sub(r',','',text)\n",
    "    text=re.sub(r'\"','',text)\n",
    "    return text\n",
    "df['Text']=df['Text'].apply(cleanText)"
   ]
  },
  {
   "cell_type": "code",
   "execution_count": 13,
   "metadata": {},
   "outputs": [],
   "source": [
    "df.drop('label',axis=1,inplace=True)"
   ]
  },
  {
   "cell_type": "code",
   "execution_count": 14,
   "metadata": {},
   "outputs": [],
   "source": [
    "df=df.rename(columns={'label;;;;;;':'label'})\n",
    "df.to_csv('daneImport.csv')"
   ]
  },
  {
   "cell_type": "code",
   "execution_count": 15,
   "metadata": {
    "scrolled": true
   },
   "outputs": [
    {
     "data": {
      "text/html": [
       "<div>\n",
       "<style scoped>\n",
       "    .dataframe tbody tr th:only-of-type {\n",
       "        vertical-align: middle;\n",
       "    }\n",
       "\n",
       "    .dataframe tbody tr th {\n",
       "        vertical-align: top;\n",
       "    }\n",
       "\n",
       "    .dataframe thead th {\n",
       "        text-align: right;\n",
       "    }\n",
       "</style>\n",
       "<table border=\"1\" class=\"dataframe\">\n",
       "  <thead>\n",
       "    <tr style=\"text-align: right;\">\n",
       "      <th></th>\n",
       "      <th>Text</th>\n",
       "      <th>label</th>\n",
       "    </tr>\n",
       "  </thead>\n",
       "  <tbody>\n",
       "    <tr>\n",
       "      <th>4</th>\n",
       "      <td>Polecam wszystkim  zwłaszcza tym  dla których ...</td>\n",
       "      <td>z_plus_m</td>\n",
       "    </tr>\n",
       "    <tr>\n",
       "      <th>6</th>\n",
       "      <td>Wszystko stare i okropne .</td>\n",
       "      <td>z_minus_m</td>\n",
       "    </tr>\n",
       "    <tr>\n",
       "      <th>7</th>\n",
       "      <td>Arogancki właściciel ustawiający gości .</td>\n",
       "      <td>z_minus_m</td>\n",
       "    </tr>\n",
       "    <tr>\n",
       "      <th>10</th>\n",
       "      <td>Pokój relaksu z Jacuzzi  różnorodne usługi  ma...</td>\n",
       "      <td>z_plus_m</td>\n",
       "    </tr>\n",
       "    <tr>\n",
       "      <th>11</th>\n",
       "      <td>Hotel na bardzo dobrym poziomie zarówno jeśli ...</td>\n",
       "      <td>z_plus_m</td>\n",
       "    </tr>\n",
       "    <tr>\n",
       "      <th>...</th>\n",
       "      <td>...</td>\n",
       "      <td>...</td>\n",
       "    </tr>\n",
       "    <tr>\n",
       "      <th>45958</th>\n",
       "      <td>W ostatni dzień kucharz podał nam surowego klo...</td>\n",
       "      <td>z_minus_m</td>\n",
       "    </tr>\n",
       "    <tr>\n",
       "      <th>45959</th>\n",
       "      <td>Na plus zaliczył by m też wbudowane gniazda US...</td>\n",
       "      <td>z_plus_m</td>\n",
       "    </tr>\n",
       "    <tr>\n",
       "      <th>45960</th>\n",
       "      <td>Bardzo blisko (  min . drogi ) do centrum i ma...</td>\n",
       "      <td>z_plus_m</td>\n",
       "    </tr>\n",
       "    <tr>\n",
       "      <th>45961</th>\n",
       "      <td>Fachowo  prawie bezboleśnie i skutecznie  bo e...</td>\n",
       "      <td>z_plus_m</td>\n",
       "    </tr>\n",
       "    <tr>\n",
       "      <th>45962</th>\n",
       "      <td>Podsumowując  . umówił em się na prywatną wizy...</td>\n",
       "      <td>z_minus_m</td>\n",
       "    </tr>\n",
       "  </tbody>\n",
       "</table>\n",
       "<p>29200 rows × 2 columns</p>\n",
       "</div>"
      ],
      "text/plain": [
       "                                                    Text      label\n",
       "4      Polecam wszystkim  zwłaszcza tym  dla których ...   z_plus_m\n",
       "6                            Wszystko stare i okropne .   z_minus_m\n",
       "7              Arogancki właściciel ustawiający gości .   z_minus_m\n",
       "10     Pokój relaksu z Jacuzzi  różnorodne usługi  ma...   z_plus_m\n",
       "11     Hotel na bardzo dobrym poziomie zarówno jeśli ...   z_plus_m\n",
       "...                                                  ...        ...\n",
       "45958  W ostatni dzień kucharz podał nam surowego klo...  z_minus_m\n",
       "45959  Na plus zaliczył by m też wbudowane gniazda US...   z_plus_m\n",
       "45960  Bardzo blisko (  min . drogi ) do centrum i ma...   z_plus_m\n",
       "45961  Fachowo  prawie bezboleśnie i skutecznie  bo e...   z_plus_m\n",
       "45962  Podsumowując  . umówił em się na prywatną wizy...  z_minus_m\n",
       "\n",
       "[29200 rows x 2 columns]"
      ]
     },
     "execution_count": 15,
     "metadata": {},
     "output_type": "execute_result"
    }
   ],
   "source": [
    "df =df[df.label != 'z_zero']\n",
    "df =df[df.label != 'z_amb']\n",
    "dfbb"
   ]
  },
  {
   "cell_type": "markdown",
   "metadata": {},
   "source": [
    "# Splitting data and training model\n"
   ]
  },
  {
   "cell_type": "code",
   "execution_count": 28,
   "metadata": {},
   "outputs": [],
   "source": [
    "X=df['Text']"
   ]
  },
  {
   "cell_type": "code",
   "execution_count": 29,
   "metadata": {},
   "outputs": [],
   "source": [
    "y=df['label']\n"
   ]
  },
  {
   "cell_type": "code",
   "execution_count": 30,
   "metadata": {},
   "outputs": [
    {
     "data": {
      "text/plain": [
       "4         z_plus_m\n",
       "6        z_minus_m\n",
       "7        z_minus_m\n",
       "10        z_plus_m\n",
       "11        z_plus_m\n",
       "           ...    \n",
       "45958    z_minus_m\n",
       "45959     z_plus_m\n",
       "45960     z_plus_m\n",
       "45961     z_plus_m\n",
       "45962    z_minus_m\n",
       "Name: label, Length: 29200, dtype: object"
      ]
     },
     "execution_count": 30,
     "metadata": {},
     "output_type": "execute_result"
    }
   ],
   "source": [
    "y"
   ]
  },
  {
   "cell_type": "code",
   "execution_count": 31,
   "metadata": {},
   "outputs": [],
   "source": [
    "X_train,X_test,Y_train,Y_test = train_test_split(X,y,test_size=0.2,random_state=42)"
   ]
  },
  {
   "cell_type": "code",
   "execution_count": 27,
   "metadata": {},
   "outputs": [],
   "source": [
    "pipe = Pipeline([('vectorizer', vectorizer),\n",
    "                 ('classifier', classifier)])"
   ]
  },
  {
   "cell_type": "code",
   "execution_count": 33,
   "metadata": {},
   "outputs": [
    {
     "data": {
      "text/plain": [
       "28460            Pokoje bardzo czyste  ładnie urządzone . \n",
       "12234    Bardzo polecam wszystkim kobietom kontakt z ty...\n",
       "25443    Dodam  że mama była ciężko chora na nowotwór i...\n",
       "1068     Zarowno lek jak i srodki do pielegnacji skory ...\n",
       "26237      Obsługa miła  wszyscy uśmiechnięci i pomocni . \n",
       "                               ...                        \n",
       "33928    Na stołówce notorycznie czegoś brakowało taler...\n",
       "8442     Moim zdaniem nadaje się do interwencji Izby Le...\n",
       "1389     Wystraszym mnie nieziemsko  zakazal kontynuacj...\n",
       "24885                 Ogólne bardzo słabo i nie polecam . \n",
       "37200    Zadał tylko ogólnikowe pytania typu gdzie mies...\n",
       "Name: Text, Length: 23360, dtype: object"
      ]
     },
     "execution_count": 33,
     "metadata": {},
     "output_type": "execute_result"
    }
   ],
   "source": [
    "X_train"
   ]
  },
  {
   "cell_type": "code",
   "execution_count": 34,
   "metadata": {},
   "outputs": [
    {
     "data": {
      "text/plain": [
       "28460     z_plus_m\n",
       "12234     z_plus_m\n",
       "25443    z_minus_m\n",
       "1068     z_minus_m\n",
       "26237     z_plus_m\n",
       "           ...    \n",
       "33928    z_minus_m\n",
       "8442     z_minus_m\n",
       "1389     z_minus_m\n",
       "24885    z_minus_m\n",
       "37200    z_minus_m\n",
       "Name: label, Length: 23360, dtype: object"
      ]
     },
     "execution_count": 34,
     "metadata": {},
     "output_type": "execute_result"
    }
   ],
   "source": [
    "Y_train"
   ]
  },
  {
   "cell_type": "code",
   "execution_count": 35,
   "metadata": {},
   "outputs": [
    {
     "data": {
      "text/plain": [
       "Pipeline(steps=[('cleaner', <__main__.predictors object at 0x0000020A64EADA60>),\n",
       "                ('vectorizer',\n",
       "                 CountVectorizer(tokenizer=<function tokenizer at 0x0000020A32B9B0D0>)),\n",
       "                ('classifier', LinearSVC())])"
      ]
     },
     "execution_count": 35,
     "metadata": {},
     "output_type": "execute_result"
    }
   ],
   "source": [
    "pipe.fit(X_train,Y_train)"
   ]
  },
  {
   "cell_type": "code",
   "execution_count": 43,
   "metadata": {},
   "outputs": [],
   "source": [
    "samplePredict=pipe.predict(X_test)"
   ]
  },
  {
   "cell_type": "code",
   "execution_count": 45,
   "metadata": {
    "scrolled": true
   },
   "outputs": [
    {
     "data": {
      "text/plain": [
       "array(['z_minus_m'], dtype=object)"
      ]
     },
     "execution_count": 45,
     "metadata": {},
     "output_type": "execute_result"
    }
   ],
   "source": [
    "pipe.predict([\"Nie cierpię tej pracy chciałbym ją zmienić\"])"
   ]
  },
  {
   "cell_type": "code",
   "execution_count": 47,
   "metadata": {},
   "outputs": [
    {
     "name": "stdout",
     "output_type": "stream",
     "text": [
      "Dokładność:  0.8102739726027397\n"
     ]
    }
   ],
   "source": [
    "print(\"Dokładność: \",pipe.score(X_test,Y_test))\n",
    "#print(\"Dokładność: \",pipe.score(X_test,samplePredict))"
   ]
  },
  {
   "cell_type": "code",
   "execution_count": 38,
   "metadata": {},
   "outputs": [
    {
     "name": "stdout",
     "output_type": "stream",
     "text": [
      "              precision    recall  f1-score   support\n",
      "\n",
      "   z_minus_m       0.85      0.83      0.84      3430\n",
      "    z_plus_m       0.76      0.79      0.77      2410\n",
      "\n",
      "    accuracy                           0.81      5840\n",
      "   macro avg       0.80      0.81      0.81      5840\n",
      "weighted avg       0.81      0.81      0.81      5840\n",
      "\n"
     ]
    }
   ],
   "source": [
    "print(classification_report(Y_test,samplePredict))"
   ]
  },
  {
   "cell_type": "code",
   "execution_count": null,
   "metadata": {},
   "outputs": [],
   "source": []
  }
 ],
 "metadata": {
  "kernelspec": {
   "display_name": "Python 3",
   "language": "python",
   "name": "python3"
  },
  "language_info": {
   "codemirror_mode": {
    "name": "ipython",
    "version": 3
   },
   "file_extension": ".py",
   "mimetype": "text/x-python",
   "name": "python",
   "nbconvert_exporter": "python",
   "pygments_lexer": "ipython3",
   "version": "3.8.5"
  }
 },
 "nbformat": 4,
 "nbformat_minor": 4
}
