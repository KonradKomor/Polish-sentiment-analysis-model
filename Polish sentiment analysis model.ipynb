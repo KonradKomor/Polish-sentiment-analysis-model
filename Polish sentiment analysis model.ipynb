{
 "cells": [
  {
   "cell_type": "code",
   "execution_count": 100,
   "metadata": {},
   "outputs": [],
   "source": [
    "import pandas as pd\n",
    "import re\n",
    "from textblob import TextBlob\n",
    "import spacy as spacy\n",
    "import numpy as np\n",
    "nlp = spacy.load(\"pl_core_news_lg\")\n",
    "from sklearn.linear_model import LogisticRegression\n",
    "from sklearn.model_selection import train_test_split\n",
    "from sklearn.metrics import classification_report\n",
    "from sklearn.model_selection import ShuffleSplit"
   ]
  },
  {
   "cell_type": "markdown",
   "metadata": {},
   "source": [
    "# Cleaning and importing data\n"
   ]
  },
  {
   "cell_type": "code",
   "execution_count": 108,
   "metadata": {},
   "outputs": [
    {
     "name": "stderr",
     "output_type": "stream",
     "text": [
      "<ipython-input-108-4df8a0abd9e6>:1: ParserWarning: Falling back to the 'python' engine because the 'c' engine does not support regex separators (separators > 1 char and different from '\\s+' are interpreted as regex); you can avoid this warning by specifying engine='python'.\n",
      "  df = pd.read_csv('C:/Users/konra/analiza.csv',sep='__',encoding='utf-8')\n"
     ]
    },
    {
     "data": {
      "text/html": [
       "<div>\n",
       "<style scoped>\n",
       "    .dataframe tbody tr th:only-of-type {\n",
       "        vertical-align: middle;\n",
       "    }\n",
       "\n",
       "    .dataframe tbody tr th {\n",
       "        vertical-align: top;\n",
       "    }\n",
       "\n",
       "    .dataframe thead th {\n",
       "        text-align: right;\n",
       "    }\n",
       "</style>\n",
       "<table border=\"1\" class=\"dataframe\">\n",
       "  <thead>\n",
       "    <tr style=\"text-align: right;\">\n",
       "      <th></th>\n",
       "      <th>Text</th>\n",
       "      <th>label</th>\n",
       "      <th>label;;;;;;</th>\n",
       "    </tr>\n",
       "  </thead>\n",
       "  <tbody>\n",
       "    <tr>\n",
       "      <th>0</th>\n",
       "      <td>Taksowak przyjezdza na czas , wydaje sie , ze ...</td>\n",
       "      <td>label</td>\n",
       "      <td>z_zero;;;;;;</td>\n",
       "    </tr>\n",
       "    <tr>\n",
       "      <th>1</th>\n",
       "      <td>Do tej pani trafili śmy z naszą 2 - miesięczna...</td>\n",
       "      <td>label</td>\n",
       "      <td>z_zero;;;;;;</td>\n",
       "    </tr>\n",
       "    <tr>\n",
       "      <th>2</th>\n",
       "      <td>Wyróżnikiem , a także ciekawym elementem całeg...</td>\n",
       "      <td>label</td>\n",
       "      <td>z_zero;;;;;;</td>\n",
       "    </tr>\n",
       "    <tr>\n",
       "      <th>3</th>\n",
       "      <td>W zależności od pory dnia , w naszych organizm...</td>\n",
       "      <td>label</td>\n",
       "      <td>z_zero;;;;;;</td>\n",
       "    </tr>\n",
       "    <tr>\n",
       "      <th>4</th>\n",
       "      <td>Polecam wszystkim , zwłaszcza tym , dla któryc...</td>\n",
       "      <td>label</td>\n",
       "      <td>z_plus_m;;;;;;</td>\n",
       "    </tr>\n",
       "    <tr>\n",
       "      <th>...</th>\n",
       "      <td>...</td>\n",
       "      <td>...</td>\n",
       "      <td>...</td>\n",
       "    </tr>\n",
       "    <tr>\n",
       "      <th>45959</th>\n",
       "      <td>Na plus zaliczył by m też wbudowane gniazda US...</td>\n",
       "      <td>label</td>\n",
       "      <td>z_plus_m;;;;;;</td>\n",
       "    </tr>\n",
       "    <tr>\n",
       "      <th>45960</th>\n",
       "      <td>Bardzo blisko ( 3 - 5 min . drogi ) do centrum...</td>\n",
       "      <td>label</td>\n",
       "      <td>z_plus_m;;;;;;</td>\n",
       "    </tr>\n",
       "    <tr>\n",
       "      <th>45961</th>\n",
       "      <td>Fachowo , prawie bezboleśnie i skutecznie , bo...</td>\n",
       "      <td>label</td>\n",
       "      <td>z_plus_m;;;;;;</td>\n",
       "    </tr>\n",
       "    <tr>\n",
       "      <th>45962</th>\n",
       "      <td>Podsumowując : 1 . umówił em się na prywatną w...</td>\n",
       "      <td>label</td>\n",
       "      <td>z_minus_m;;;;;;</td>\n",
       "    </tr>\n",
       "    <tr>\n",
       "      <th>45963</th>\n",
       "      <td>Był nieco tąńszy a sprzedawca zapewniał , że n...</td>\n",
       "      <td>label</td>\n",
       "      <td>z_amb;;;;;;</td>\n",
       "    </tr>\n",
       "  </tbody>\n",
       "</table>\n",
       "<p>45964 rows × 3 columns</p>\n",
       "</div>"
      ],
      "text/plain": [
       "                                                    Text  label  \\\n",
       "0      Taksowak przyjezdza na czas , wydaje sie , ze ...  label   \n",
       "1      Do tej pani trafili śmy z naszą 2 - miesięczna...  label   \n",
       "2      Wyróżnikiem , a także ciekawym elementem całeg...  label   \n",
       "3      W zależności od pory dnia , w naszych organizm...  label   \n",
       "4      Polecam wszystkim , zwłaszcza tym , dla któryc...  label   \n",
       "...                                                  ...    ...   \n",
       "45959  Na plus zaliczył by m też wbudowane gniazda US...  label   \n",
       "45960  Bardzo blisko ( 3 - 5 min . drogi ) do centrum...  label   \n",
       "45961  Fachowo , prawie bezboleśnie i skutecznie , bo...  label   \n",
       "45962  Podsumowując : 1 . umówił em się na prywatną w...  label   \n",
       "45963  Był nieco tąńszy a sprzedawca zapewniał , że n...  label   \n",
       "\n",
       "           label;;;;;;  \n",
       "0         z_zero;;;;;;  \n",
       "1         z_zero;;;;;;  \n",
       "2         z_zero;;;;;;  \n",
       "3         z_zero;;;;;;  \n",
       "4       z_plus_m;;;;;;  \n",
       "...                ...  \n",
       "45959   z_plus_m;;;;;;  \n",
       "45960   z_plus_m;;;;;;  \n",
       "45961   z_plus_m;;;;;;  \n",
       "45962  z_minus_m;;;;;;  \n",
       "45963      z_amb;;;;;;  \n",
       "\n",
       "[45964 rows x 3 columns]"
      ]
     },
     "execution_count": 108,
     "metadata": {},
     "output_type": "execute_result"
    }
   ],
   "source": [
    "df = pd.read_csv('C:/Users/konra/analiza.csv',sep='__',encoding='utf-8')\n",
    "df"
   ]
  },
  {
   "cell_type": "code",
   "execution_count": 109,
   "metadata": {},
   "outputs": [],
   "source": [
    "def getRidOff(text):\n",
    "    text=re.sub(r';','',text)\n",
    "    text=re.sub(r'\"','',text)\n",
    "    return text\n",
    "df['label;;;;;;']=df['label;;;;;;'].apply(getRidOff)"
   ]
  },
  {
   "cell_type": "code",
   "execution_count": 110,
   "metadata": {},
   "outputs": [],
   "source": [
    "def cleanText(text):\n",
    "    text=re.sub(r':','',text)\n",
    "    text=re.sub(r';','',text)\n",
    "    text=re.sub(r'[0-9]+','',text)\n",
    "    text=re.sub(r'  ',' ',text)\n",
    "    text=re.sub(r'#','',text)\n",
    "    text=re.sub(r'-','',text)\n",
    "    text=re.sub(r',','',text)\n",
    "    text=re.sub(r'\"','',text)\n",
    "    return text\n",
    "df['Text']=df['Text'].apply(cleanText)"
   ]
  },
  {
   "cell_type": "code",
   "execution_count": 111,
   "metadata": {},
   "outputs": [],
   "source": [
    "df.drop('label',axis=1,inplace=True)"
   ]
  },
  {
   "cell_type": "code",
   "execution_count": 112,
   "metadata": {},
   "outputs": [],
   "source": [
    "df=df.rename(columns={'label;;;;;;':'label'})"
   ]
  },
  {
   "cell_type": "code",
   "execution_count": 113,
   "metadata": {
    "scrolled": true
   },
   "outputs": [
    {
     "data": {
      "text/html": [
       "<div>\n",
       "<style scoped>\n",
       "    .dataframe tbody tr th:only-of-type {\n",
       "        vertical-align: middle;\n",
       "    }\n",
       "\n",
       "    .dataframe tbody tr th {\n",
       "        vertical-align: top;\n",
       "    }\n",
       "\n",
       "    .dataframe thead th {\n",
       "        text-align: right;\n",
       "    }\n",
       "</style>\n",
       "<table border=\"1\" class=\"dataframe\">\n",
       "  <thead>\n",
       "    <tr style=\"text-align: right;\">\n",
       "      <th></th>\n",
       "      <th>Text</th>\n",
       "      <th>label</th>\n",
       "    </tr>\n",
       "  </thead>\n",
       "  <tbody>\n",
       "    <tr>\n",
       "      <th>0</th>\n",
       "      <td>Taksowak przyjezdza na czas  wydaje sie  ze je...</td>\n",
       "      <td>z_zero</td>\n",
       "    </tr>\n",
       "    <tr>\n",
       "      <th>1</th>\n",
       "      <td>Do tej pani trafili śmy z naszą  miesięczna có...</td>\n",
       "      <td>z_zero</td>\n",
       "    </tr>\n",
       "    <tr>\n",
       "      <th>2</th>\n",
       "      <td>Wyróżnikiem  a także ciekawym elementem całego...</td>\n",
       "      <td>z_zero</td>\n",
       "    </tr>\n",
       "    <tr>\n",
       "      <th>3</th>\n",
       "      <td>W zależności od pory dnia  w naszych organizma...</td>\n",
       "      <td>z_zero</td>\n",
       "    </tr>\n",
       "    <tr>\n",
       "      <th>4</th>\n",
       "      <td>Polecam wszystkim  zwłaszcza tym  dla których ...</td>\n",
       "      <td>z_plus_m</td>\n",
       "    </tr>\n",
       "    <tr>\n",
       "      <th>...</th>\n",
       "      <td>...</td>\n",
       "      <td>...</td>\n",
       "    </tr>\n",
       "    <tr>\n",
       "      <th>95</th>\n",
       "      <td>Pan doktor miał do mnie strasznie  szybkie  po...</td>\n",
       "      <td>z_amb</td>\n",
       "    </tr>\n",
       "    <tr>\n",
       "      <th>96</th>\n",
       "      <td>Mam wrażenie  że wręcz mu przeszkadzam !</td>\n",
       "      <td>z_minus_m</td>\n",
       "    </tr>\n",
       "    <tr>\n",
       "      <th>97</th>\n",
       "      <td>Obsługa uśmiechnięta i służy pomocą w zorganiz...</td>\n",
       "      <td>z_plus_m</td>\n",
       "    </tr>\n",
       "    <tr>\n",
       "      <th>98</th>\n",
       "      <td>Jednak cała otoczka związana z wizytami przypr...</td>\n",
       "      <td>z_minus_m</td>\n",
       "    </tr>\n",
       "    <tr>\n",
       "      <th>99</th>\n",
       "      <td>Weekendowy pobyt w dwuosobowym pokoju na parte...</td>\n",
       "      <td>z_minus_m</td>\n",
       "    </tr>\n",
       "  </tbody>\n",
       "</table>\n",
       "<p>100 rows × 2 columns</p>\n",
       "</div>"
      ],
      "text/plain": [
       "                                                 Text      label\n",
       "0   Taksowak przyjezdza na czas  wydaje sie  ze je...     z_zero\n",
       "1   Do tej pani trafili śmy z naszą  miesięczna có...     z_zero\n",
       "2   Wyróżnikiem  a także ciekawym elementem całego...     z_zero\n",
       "3   W zależności od pory dnia  w naszych organizma...     z_zero\n",
       "4   Polecam wszystkim  zwłaszcza tym  dla których ...   z_plus_m\n",
       "..                                                ...        ...\n",
       "95  Pan doktor miał do mnie strasznie  szybkie  po...      z_amb\n",
       "96          Mam wrażenie  że wręcz mu przeszkadzam !   z_minus_m\n",
       "97  Obsługa uśmiechnięta i służy pomocą w zorganiz...   z_plus_m\n",
       "98  Jednak cała otoczka związana z wizytami przypr...  z_minus_m\n",
       "99  Weekendowy pobyt w dwuosobowym pokoju na parte...  z_minus_m\n",
       "\n",
       "[100 rows x 2 columns]"
      ]
     },
     "execution_count": 113,
     "metadata": {},
     "output_type": "execute_result"
    }
   ],
   "source": [
    "df.head(100)"
   ]
  },
  {
   "cell_type": "markdown",
   "metadata": {},
   "source": [
    "# Getting vector value of each sentence\n"
   ]
  },
  {
   "cell_type": "code",
   "execution_count": 117,
   "metadata": {},
   "outputs": [],
   "source": [
    "def getVector(x):\n",
    "    doc = nlp(x)\n",
    "    vec = doc.vector\n",
    "    return vec"
   ]
  },
  {
   "cell_type": "code",
   "execution_count": 118,
   "metadata": {},
   "outputs": [],
   "source": [
    "df['Vector']=df['Text'].apply(lambda x: getVector(x))"
   ]
  },
  {
   "cell_type": "code",
   "execution_count": 119,
   "metadata": {
    "scrolled": false
   },
   "outputs": [
    {
     "data": {
      "text/html": [
       "<div>\n",
       "<style scoped>\n",
       "    .dataframe tbody tr th:only-of-type {\n",
       "        vertical-align: middle;\n",
       "    }\n",
       "\n",
       "    .dataframe tbody tr th {\n",
       "        vertical-align: top;\n",
       "    }\n",
       "\n",
       "    .dataframe thead th {\n",
       "        text-align: right;\n",
       "    }\n",
       "</style>\n",
       "<table border=\"1\" class=\"dataframe\">\n",
       "  <thead>\n",
       "    <tr style=\"text-align: right;\">\n",
       "      <th></th>\n",
       "      <th>Text</th>\n",
       "      <th>label</th>\n",
       "      <th>Vector</th>\n",
       "    </tr>\n",
       "  </thead>\n",
       "  <tbody>\n",
       "    <tr>\n",
       "      <th>0</th>\n",
       "      <td>Taksowak przyjezdza na czas  wydaje sie  ze je...</td>\n",
       "      <td>z_zero</td>\n",
       "      <td>[-0.34779602, -0.15112223, 0.006167796, 0.1462...</td>\n",
       "    </tr>\n",
       "    <tr>\n",
       "      <th>1</th>\n",
       "      <td>Do tej pani trafili śmy z naszą  miesięczna có...</td>\n",
       "      <td>z_zero</td>\n",
       "      <td>[-0.94308925, -2.1417625, 0.21697687, -0.69597...</td>\n",
       "    </tr>\n",
       "    <tr>\n",
       "      <th>2</th>\n",
       "      <td>Wyróżnikiem  a także ciekawym elementem całego...</td>\n",
       "      <td>z_zero</td>\n",
       "      <td>[-0.27711576, -2.4430223, -0.5780529, -0.19264...</td>\n",
       "    </tr>\n",
       "    <tr>\n",
       "      <th>3</th>\n",
       "      <td>W zależności od pory dnia  w naszych organizma...</td>\n",
       "      <td>z_zero</td>\n",
       "      <td>[-0.45596892, -1.0282898, -0.92031807, 0.11715...</td>\n",
       "    </tr>\n",
       "    <tr>\n",
       "      <th>4</th>\n",
       "      <td>Polecam wszystkim  zwłaszcza tym  dla których ...</td>\n",
       "      <td>z_plus_m</td>\n",
       "      <td>[0.30919805, -0.61286086, -0.90543896, -0.1594...</td>\n",
       "    </tr>\n",
       "    <tr>\n",
       "      <th>...</th>\n",
       "      <td>...</td>\n",
       "      <td>...</td>\n",
       "      <td>...</td>\n",
       "    </tr>\n",
       "    <tr>\n",
       "      <th>45959</th>\n",
       "      <td>Na plus zaliczył by m też wbudowane gniazda US...</td>\n",
       "      <td>z_plus_m</td>\n",
       "      <td>[-1.5377746, 0.35446644, -0.5560248, -1.080410...</td>\n",
       "    </tr>\n",
       "    <tr>\n",
       "      <th>45960</th>\n",
       "      <td>Bardzo blisko (  min . drogi ) do centrum i ma...</td>\n",
       "      <td>z_plus_m</td>\n",
       "      <td>[-0.7302746, 0.25571844, -1.2975017, -1.089486...</td>\n",
       "    </tr>\n",
       "    <tr>\n",
       "      <th>45961</th>\n",
       "      <td>Fachowo  prawie bezboleśnie i skutecznie  bo e...</td>\n",
       "      <td>z_plus_m</td>\n",
       "      <td>[-0.6959234, -0.015844243, -1.4620479, -0.2142...</td>\n",
       "    </tr>\n",
       "    <tr>\n",
       "      <th>45962</th>\n",
       "      <td>Podsumowując  . umówił em się na prywatną wizy...</td>\n",
       "      <td>z_minus_m</td>\n",
       "      <td>[-0.80375636, -0.40092832, -0.5400778, -0.8969...</td>\n",
       "    </tr>\n",
       "    <tr>\n",
       "      <th>45963</th>\n",
       "      <td>Był nieco tąńszy a sprzedawca zapewniał  że ni...</td>\n",
       "      <td>z_amb</td>\n",
       "      <td>[-0.7346669, -0.2244669, -0.90442526, -0.79340...</td>\n",
       "    </tr>\n",
       "  </tbody>\n",
       "</table>\n",
       "<p>45964 rows × 3 columns</p>\n",
       "</div>"
      ],
      "text/plain": [
       "                                                    Text      label  \\\n",
       "0      Taksowak przyjezdza na czas  wydaje sie  ze je...     z_zero   \n",
       "1      Do tej pani trafili śmy z naszą  miesięczna có...     z_zero   \n",
       "2      Wyróżnikiem  a także ciekawym elementem całego...     z_zero   \n",
       "3      W zależności od pory dnia  w naszych organizma...     z_zero   \n",
       "4      Polecam wszystkim  zwłaszcza tym  dla których ...   z_plus_m   \n",
       "...                                                  ...        ...   \n",
       "45959  Na plus zaliczył by m też wbudowane gniazda US...   z_plus_m   \n",
       "45960  Bardzo blisko (  min . drogi ) do centrum i ma...   z_plus_m   \n",
       "45961  Fachowo  prawie bezboleśnie i skutecznie  bo e...   z_plus_m   \n",
       "45962  Podsumowując  . umówił em się na prywatną wizy...  z_minus_m   \n",
       "45963  Był nieco tąńszy a sprzedawca zapewniał  że ni...      z_amb   \n",
       "\n",
       "                                                  Vector  \n",
       "0      [-0.34779602, -0.15112223, 0.006167796, 0.1462...  \n",
       "1      [-0.94308925, -2.1417625, 0.21697687, -0.69597...  \n",
       "2      [-0.27711576, -2.4430223, -0.5780529, -0.19264...  \n",
       "3      [-0.45596892, -1.0282898, -0.92031807, 0.11715...  \n",
       "4      [0.30919805, -0.61286086, -0.90543896, -0.1594...  \n",
       "...                                                  ...  \n",
       "45959  [-1.5377746, 0.35446644, -0.5560248, -1.080410...  \n",
       "45960  [-0.7302746, 0.25571844, -1.2975017, -1.089486...  \n",
       "45961  [-0.6959234, -0.015844243, -1.4620479, -0.2142...  \n",
       "45962  [-0.80375636, -0.40092832, -0.5400778, -0.8969...  \n",
       "45963  [-0.7346669, -0.2244669, -0.90442526, -0.79340...  \n",
       "\n",
       "[45964 rows x 3 columns]"
      ]
     },
     "execution_count": 119,
     "metadata": {},
     "output_type": "execute_result"
    }
   ],
   "source": [
    "df"
   ]
  },
  {
   "cell_type": "markdown",
   "metadata": {},
   "source": [
    "# Splitting data to training and test sets"
   ]
  },
  {
   "cell_type": "code",
   "execution_count": 120,
   "metadata": {},
   "outputs": [],
   "source": [
    "X = df['Vector'].to_numpy()\n",
    "X=X.reshape(-1,1)"
   ]
  },
  {
   "cell_type": "code",
   "execution_count": 121,
   "metadata": {},
   "outputs": [
    {
     "data": {
      "text/plain": [
       "(45964, 1)"
      ]
     },
     "execution_count": 121,
     "metadata": {},
     "output_type": "execute_result"
    }
   ],
   "source": [
    "X.shape"
   ]
  },
  {
   "cell_type": "code",
   "execution_count": 122,
   "metadata": {},
   "outputs": [],
   "source": [
    "X=np.concatenate(np.concatenate(X,axis=0),axis=0).reshape(-1,300)"
   ]
  },
  {
   "cell_type": "code",
   "execution_count": 123,
   "metadata": {},
   "outputs": [
    {
     "data": {
      "text/plain": [
       "(45964, 300)"
      ]
     },
     "execution_count": 123,
     "metadata": {},
     "output_type": "execute_result"
    }
   ],
   "source": [
    "X.shape"
   ]
  },
  {
   "cell_type": "code",
   "execution_count": 124,
   "metadata": {},
   "outputs": [],
   "source": [
    "y=df['label']\n"
   ]
  },
  {
   "cell_type": "code",
   "execution_count": 125,
   "metadata": {},
   "outputs": [
    {
     "data": {
      "text/plain": [
       "0           z_zero\n",
       "1           z_zero\n",
       "2           z_zero\n",
       "3           z_zero\n",
       "4         z_plus_m\n",
       "           ...    \n",
       "45959     z_plus_m\n",
       "45960     z_plus_m\n",
       "45961     z_plus_m\n",
       "45962    z_minus_m\n",
       "45963        z_amb\n",
       "Name: label, Length: 45964, dtype: object"
      ]
     },
     "execution_count": 125,
     "metadata": {},
     "output_type": "execute_result"
    }
   ],
   "source": [
    "y"
   ]
  },
  {
   "cell_type": "code",
   "execution_count": 126,
   "metadata": {},
   "outputs": [],
   "source": [
    "X_train,X_test,Y_train,Y_test = train_test_split(X,y,test_size=0.2,random_state=0)"
   ]
  },
  {
   "cell_type": "code",
   "execution_count": 127,
   "metadata": {},
   "outputs": [
    {
     "data": {
      "text/plain": [
       "((36771, 300), (9193, 300))"
      ]
     },
     "execution_count": 127,
     "metadata": {},
     "output_type": "execute_result"
    }
   ],
   "source": [
    "X_train.shape,X_test.shape"
   ]
  },
  {
   "cell_type": "markdown",
   "metadata": {},
   "source": [
    "# Training Model\n"
   ]
  },
  {
   "cell_type": "code",
   "execution_count": 128,
   "metadata": {},
   "outputs": [],
   "source": [
    "clf=LogisticRegression(solver='liblinear')"
   ]
  },
  {
   "cell_type": "code",
   "execution_count": 129,
   "metadata": {},
   "outputs": [
    {
     "data": {
      "text/plain": [
       "LogisticRegression(solver='liblinear')"
      ]
     },
     "execution_count": 129,
     "metadata": {},
     "output_type": "execute_result"
    }
   ],
   "source": [
    "clf.fit(X_train, Y_train)"
   ]
  },
  {
   "cell_type": "code",
   "execution_count": 132,
   "metadata": {},
   "outputs": [],
   "source": [
    "Y_pred=clf.predict(X_test)"
   ]
  },
  {
   "cell_type": "code",
   "execution_count": 133,
   "metadata": {},
   "outputs": [
    {
     "name": "stdout",
     "output_type": "stream",
     "text": [
      "              precision    recall  f1-score   support\n",
      "\n",
      "       z_amb       0.55      0.16      0.25      1138\n",
      "   z_minus_m       0.63      0.78      0.70      3353\n",
      "    z_plus_m       0.67      0.69      0.68      2426\n",
      "      z_zero       0.70      0.70      0.70      2276\n",
      "\n",
      "    accuracy                           0.66      9193\n",
      "   macro avg       0.64      0.58      0.58      9193\n",
      "weighted avg       0.65      0.66      0.64      9193\n",
      "\n"
     ]
    }
   ],
   "source": [
    "print(classification_report(Y_test,Y_pred))"
   ]
  },
  {
   "cell_type": "code",
   "execution_count": 134,
   "metadata": {},
   "outputs": [],
   "source": [
    "import pickle"
   ]
  },
  {
   "cell_type": "code",
   "execution_count": 135,
   "metadata": {},
   "outputs": [],
   "source": [
    "pickle.dump(clf,open('w2v_Sentiment','wb'))"
   ]
  },
  {
   "cell_type": "code",
   "execution_count": 136,
   "metadata": {
    "scrolled": true
   },
   "outputs": [],
   "source": [
    "df=df[df[\"Text\"].str.contains('youtube.com')==False]"
   ]
  },
  {
   "cell_type": "code",
   "execution_count": 143,
   "metadata": {},
   "outputs": [],
   "source": [
    "x='Super tego właśnie potrzebowaliśmy te zmiany pomogą Polakom!'\n",
    "x = cleanText(x)"
   ]
  },
  {
   "cell_type": "code",
   "execution_count": 144,
   "metadata": {},
   "outputs": [],
   "source": [
    "vector=getVector(x)"
   ]
  },
  {
   "cell_type": "code",
   "execution_count": 145,
   "metadata": {},
   "outputs": [
    {
     "data": {
      "text/plain": [
       "array(['z_plus_m'], dtype=object)"
      ]
     },
     "execution_count": 145,
     "metadata": {},
     "output_type": "execute_result"
    }
   ],
   "source": [
    "clf.predict(vector.reshape(1,-1))"
   ]
  }
 ],
 "metadata": {
  "kernelspec": {
   "display_name": "Python 3",
   "language": "python",
   "name": "python3"
  },
  "language_info": {
   "codemirror_mode": {
    "name": "ipython",
    "version": 3
   },
   "file_extension": ".py",
   "mimetype": "text/x-python",
   "name": "python",
   "nbconvert_exporter": "python",
   "pygments_lexer": "ipython3",
   "version": "3.8.5"
  }
 },
 "nbformat": 4,
 "nbformat_minor": 4
}
